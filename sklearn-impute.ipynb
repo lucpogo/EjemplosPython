{
 "cells": [
  {
   "cell_type": "markdown",
   "metadata": {},
   "source": [
    "# Cosa e'mandinga\n",
    "## Analizando Impute de scikit-learn\n",
    "por [Lucas Pogorelsky](http://www.twitter.com/lucpogo)\n",
    "\n",
    "Estábamos con [@federicobayle](http://www.twitter.com/federicobayle) debatiendo acerca de métodos de imputación y nos dimos cuenta que no hay un criterio unificado acerca del valor a utilizar al imputar en testing/dev.\n",
    "\n",
    "Se usa la medida de training o se recalcula para testing?\n",
    "\n",
    "Para no tener que tomar una decisión, me fijé qué es lo que hacen en sklearn."
   ]
  },
  {
   "cell_type": "code",
   "execution_count": 2,
   "metadata": {},
   "outputs": [],
   "source": [
    "import numpy as np\n",
    "from sklearn.preprocessing import Imputer"
   ]
  },
  {
   "cell_type": "markdown",
   "metadata": {},
   "source": [
    "## Axis=0"
   ]
  },
  {
   "cell_type": "code",
   "execution_count": 51,
   "metadata": {},
   "outputs": [
    {
     "data": {
      "text/plain": [
       "array([[ 1., 10.],\n",
       "       [ 2.,  9.],\n",
       "       [ 3.,  8.],\n",
       "       [ 4.,  7.],\n",
       "       [ 5.,  6.],\n",
       "       [nan, 10.]])"
      ]
     },
     "execution_count": 51,
     "metadata": {},
     "output_type": "execute_result"
    }
   ],
   "source": [
    "X_long = np.array([[1,2,3,4,5,np.nan],[10,9,8,7,6,10]]).T\n",
    "X_long"
   ]
  },
  {
   "cell_type": "code",
   "execution_count": 52,
   "metadata": {},
   "outputs": [],
   "source": [
    "imputar_long = Imputer(strategy='median',axis=0,copy=False)"
   ]
  },
  {
   "cell_type": "code",
   "execution_count": 53,
   "metadata": {},
   "outputs": [
    {
     "data": {
      "text/plain": [
       "Imputer(axis=0, copy=False, missing_values='NaN', strategy='median',\n",
       "    verbose=0)"
      ]
     },
     "execution_count": 53,
     "metadata": {},
     "output_type": "execute_result"
    }
   ],
   "source": [
    "imputar_long.fit(X_long)"
   ]
  },
  {
   "cell_type": "code",
   "execution_count": 54,
   "metadata": {},
   "outputs": [
    {
     "data": {
      "text/plain": [
       "array([[10., 10.],\n",
       "       [20.,  9.],\n",
       "       [30.,  8.],\n",
       "       [40.,  7.],\n",
       "       [50.,  6.],\n",
       "       [ 3.,  5.]])"
      ]
     },
     "execution_count": 54,
     "metadata": {},
     "output_type": "execute_result"
    }
   ],
   "source": [
    "imputar_long.transform(np.array([[10,20,30,40,50,np.nan],[10,9,8,7,6,5]]).T)"
   ]
  },
  {
   "cell_type": "markdown",
   "metadata": {},
   "source": [
    "Al usar el eje 0 (columnas), utiliza la mediana de los **valores con los que hicimos el fit**"
   ]
  },
  {
   "cell_type": "markdown",
   "metadata": {},
   "source": [
    "## Axis=1"
   ]
  },
  {
   "cell_type": "code",
   "execution_count": 60,
   "metadata": {},
   "outputs": [
    {
     "data": {
      "text/plain": [
       "array([[ 1.,  2.,  3.,  4.,  5., nan],\n",
       "       [10.,  9.,  8.,  7.,  6., 10.]])"
      ]
     },
     "execution_count": 60,
     "metadata": {},
     "output_type": "execute_result"
    }
   ],
   "source": [
    "X_wide = np.array([[1,2,3,4,5,np.nan],[10,9,8,7,6,10]])\n",
    "X_wide"
   ]
  },
  {
   "cell_type": "code",
   "execution_count": 61,
   "metadata": {},
   "outputs": [],
   "source": [
    "imputar_wide = Imputer(strategy='median',axis=1,copy=False)"
   ]
  },
  {
   "cell_type": "code",
   "execution_count": 62,
   "metadata": {},
   "outputs": [
    {
     "data": {
      "text/plain": [
       "Imputer(axis=1, copy=False, missing_values='NaN', strategy='median',\n",
       "    verbose=0)"
      ]
     },
     "execution_count": 62,
     "metadata": {},
     "output_type": "execute_result"
    }
   ],
   "source": [
    "imputar_wide.fit(X_wide)"
   ]
  },
  {
   "cell_type": "code",
   "execution_count": 63,
   "metadata": {},
   "outputs": [
    {
     "data": {
      "text/plain": [
       "array([[10., 20., 30., 40., 50., 30.],\n",
       "       [10.,  9.,  8.,  7.,  6.,  5.]])"
      ]
     },
     "execution_count": 63,
     "metadata": {},
     "output_type": "execute_result"
    }
   ],
   "source": [
    "imputar_wide.transform(np.array([[10,20,30,40,50,np.nan],[10,9,8,7,6,5]]))"
   ]
  },
  {
   "cell_type": "markdown",
   "metadata": {},
   "source": [
    "Al usar el eje 0 (filas), utiliza la mediana de los **valores a los que le aplicamos el transform**"
   ]
  },
  {
   "cell_type": "markdown",
   "metadata": {},
   "source": [
    "Eso fue todo, espero que les haya gustado [cortina de Nivel X]"
   ]
  }
 ],
 "metadata": {
  "kernelspec": {
   "display_name": "Python 3",
   "language": "python",
   "name": "python3"
  },
  "language_info": {
   "codemirror_mode": {
    "name": "ipython",
    "version": 3
   },
   "file_extension": ".py",
   "mimetype": "text/x-python",
   "name": "python",
   "nbconvert_exporter": "python",
   "pygments_lexer": "ipython3",
   "version": "3.6.4"
  }
 },
 "nbformat": 4,
 "nbformat_minor": 2
}
